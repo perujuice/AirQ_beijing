{
 "cells": [
  {
   "cell_type": "markdown",
   "id": "5a6eea05",
   "metadata": {},
   "source": [
    "# IMport data"
   ]
  },
  {
   "cell_type": "code",
   "execution_count": 2,
   "id": "cb4e854f",
   "metadata": {},
   "outputs": [
    {
     "name": "stderr",
     "output_type": "stream",
     "text": [
      "c:\\Users\\marte\\AppData\\Local\\Programs\\Python\\Python311\\Lib\\site-packages\\tqdm\\auto.py:21: TqdmWarning: IProgress not found. Please update jupyter and ipywidgets. See https://ipywidgets.readthedocs.io/en/stable/user_install.html\n",
      "  from .autonotebook import tqdm as notebook_tqdm\n"
     ]
    },
    {
     "name": "stdout",
     "output_type": "stream",
     "text": [
      "Path to dataset files: C:\\Users\\marte\\.cache\\kagglehub\\datasets\\sid321axn\\beijing-multisite-airquality-data-set\\versions\\1\n"
     ]
    }
   ],
   "source": [
    "import kagglehub\n",
    "\n",
    "# Download latest version\n",
    "path = kagglehub.dataset_download(\"sid321axn/beijing-multisite-airquality-data-set\")\n",
    "\n",
    "print(\"Path to dataset files:\", path)"
   ]
  },
  {
   "cell_type": "markdown",
   "id": "e3afa946",
   "metadata": {},
   "source": [
    "# Imports"
   ]
  },
  {
   "cell_type": "code",
   "execution_count": 3,
   "id": "32607f83",
   "metadata": {},
   "outputs": [],
   "source": [
    "import os\n",
    "import pandas as pd\n",
    "import matplotlib.pyplot as plt"
   ]
  },
  {
   "cell_type": "markdown",
   "id": "276d5544",
   "metadata": {},
   "source": [
    "# Exploratory Data analysis"
   ]
  },
  {
   "cell_type": "code",
   "execution_count": 4,
   "id": "fea10edf",
   "metadata": {},
   "outputs": [
    {
     "name": "stdout",
     "output_type": "stream",
     "text": [
      "hello world\n"
     ]
    },
    {
     "data": {
      "text/plain": [
       "(array([8.012e+03, 4.883e+03, 3.821e+03, 3.342e+03, 2.869e+03, 2.244e+03,\n",
       "        1.800e+03, 1.395e+03, 1.136e+03, 8.960e+02, 7.100e+02, 5.280e+02,\n",
       "        4.700e+02, 4.310e+02, 3.410e+02, 2.540e+02, 1.920e+02, 1.960e+02,\n",
       "        1.220e+02, 1.000e+02, 6.200e+01, 5.200e+01, 5.000e+01, 4.300e+01,\n",
       "        2.900e+01, 3.500e+01, 2.900e+01, 2.500e+01, 1.400e+01, 1.100e+01,\n",
       "        1.100e+01, 4.000e+00, 9.000e+00, 4.000e+00, 6.000e+00, 4.000e+00,\n",
       "        4.000e+00, 1.000e+00, 1.000e+00, 2.000e+00, 0.000e+00, 0.000e+00,\n",
       "        0.000e+00, 0.000e+00, 0.000e+00, 0.000e+00, 0.000e+00, 0.000e+00,\n",
       "        0.000e+00, 1.000e+00]),\n",
       " array([  3. ,  20.9,  38.8,  56.7,  74.6,  92.5, 110.4, 128.3, 146.2,\n",
       "        164.1, 182. , 199.9, 217.8, 235.7, 253.6, 271.5, 289.4, 307.3,\n",
       "        325.2, 343.1, 361. , 378.9, 396.8, 414.7, 432.6, 450.5, 468.4,\n",
       "        486.3, 504.2, 522.1, 540. , 557.9, 575.8, 593.7, 611.6, 629.5,\n",
       "        647.4, 665.3, 683.2, 701.1, 719. , 736.9, 754.8, 772.7, 790.6,\n",
       "        808.5, 826.4, 844.3, 862.2, 880.1, 898. ]),\n",
       " <BarContainer object of 50 artists>)"
      ]
     },
     "execution_count": 4,
     "metadata": {},
     "output_type": "execute_result"
    },
    {
     "data": {
      "image/png": "[encoded data removed]",
      "text/plain": [
       "<Figure size 640x480 with 1 Axes>"
      ]
     },
     "metadata": {},
     "output_type": "display_data"
    }
   ],
   "source": [
    "print(\"hello world\")\n",
    "\n",
    "df = pd.read_csv(os.path.join(path, \"PRSA_Data_Aotizhongxin_20130301-20170228.csv\"))\n",
    "airpoll = df['PM2.5']\n",
    "airpoll.describe()\n",
    "\n",
    "# boxplot of PM2.5 levels\n",
    "plt.hist(airpoll.dropna(), bins=50)"
   ]
  }
 ],
 "metadata": {
  "kernelspec": {
   "display_name": "Python 3",
   "language": "python",
   "name": "python3"
  },
  "language_info": {
   "codemirror_mode": {
    "name": "ipython",
    "version": 3
   },
   "file_extension": ".py",
   "mimetype": "text/x-python",
   "name": "python",
   "nbconvert_exporter": "python",
   "pygments_lexer": "ipython3",
   "version": "3.11.9"
  }
 },
 "nbformat": 4,
 "nbformat_minor": 5
}
